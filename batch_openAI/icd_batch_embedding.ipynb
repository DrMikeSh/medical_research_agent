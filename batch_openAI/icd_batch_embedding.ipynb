{
 "cells": [
  {
   "cell_type": "code",
   "execution_count": 12,
   "metadata": {},
   "outputs": [],
   "source": [
    "import requests\n",
    "import pandas as pd\n",
    "import numpy as np\n",
    "import json\n",
    "import os\n"
   ]
  },
  {
   "cell_type": "markdown",
   "metadata": {},
   "source": [
    "# Get the icd codes"
   ]
  },
  {
   "cell_type": "code",
   "execution_count": 13,
   "metadata": {},
   "outputs": [
    {
     "name": "stdout",
     "output_type": "stream",
     "text": [
      "Folder './data' already exists.\n",
      "    CODE            SHORT DESCRIPTION (VALID ICD-10 FY2024)  \\\n",
      "0   A000  Cholera due to Vibrio cholerae 01, biovar chol...   \n",
      "1   A001    Cholera due to Vibrio cholerae 01, biovar eltor   \n",
      "2   A009                               Cholera, unspecified   \n",
      "3  A0100                         Typhoid fever, unspecified   \n",
      "4  A0101                                 Typhoid meningitis   \n",
      "\n",
      "              LONG DESCRIPTION (VALID ICD-10 FY2024) NF EXCL  \n",
      "0  Cholera due to Vibrio cholerae 01, biovar chol...     NaN  \n",
      "1    Cholera due to Vibrio cholerae 01, biovar eltor     NaN  \n",
      "2                               Cholera, unspecified     NaN  \n",
      "3                         Typhoid fever, unspecified     NaN  \n",
      "4                                 Typhoid meningitis     NaN  \n"
     ]
    }
   ],
   "source": [
    "link = 'https://www.cms.gov/files/document/valid-icd-10-list.xlsx'\n",
    "# Download the xlsx file\n",
    "response = requests.get(link)\n",
    "\n",
    "#check if the data folder exists, else create it\n",
    "def check_and_create_folder(folder_path):\n",
    "    if not os.path.exists(folder_path):\n",
    "        os.makedirs(folder_path)\n",
    "        print(f\"Folder '{folder_path}' created.\")\n",
    "    else:\n",
    "        print(f\"Folder '{folder_path}' already exists.\")\n",
    "check_and_create_folder('./data')\n",
    "\n",
    "with open('./data/icd10_codes.xlsx', 'wb') as file:\n",
    "    file.write(response.content)\n",
    "\n",
    "# Open the xlsx file\n",
    "icd_codes = pd.read_excel('./data/icd10_codes.xlsx')\n",
    "print(icd_codes.head())"
   ]
  },
  {
   "cell_type": "code",
   "execution_count": 14,
   "metadata": {},
   "outputs": [
    {
     "name": "stdout",
     "output_type": "stream",
     "text": [
      "code                0.0\n",
      "long_description    0.0\n",
      "dtype: float64\n"
     ]
    }
   ],
   "source": [
    "icd_codes = icd_codes.drop('NF EXCL', axis=1)\n",
    "icd_codes.columns = ['code', 'short_description','long_description']\n",
    "icd_codes = icd_codes.drop('short_description', axis=1) \n",
    "icd_codes=icd_codes.dropna()\n",
    "print(icd_codes.isna().mean()) # Check for missing values"
   ]
  },
  {
   "cell_type": "markdown",
   "metadata": {},
   "source": [
    "# Create batch files"
   ]
  },
  {
   "cell_type": "code",
   "execution_count": 15,
   "metadata": {},
   "outputs": [
    {
     "name": "stdout",
     "output_type": "stream",
     "text": [
      "Folder './batch_files' already exists.\n",
      "{\"custom_id\": \"custom_id_0\", \"method\": \"POST\", \"url\": \"/v1/embeddings\", \"body\": {\"input\": \"Cholera due to Vibrio cholerae 01, biovar cholerae\", \"model\": \"text-embedding-3-large\", \"encoding_format\": \"float\", \"dimensions\": 1024}}\n",
      "\n",
      "{\"custom_id\": \"custom_id_1\", \"method\": \"POST\", \"url\": \"/v1/embeddings\", \"body\": {\"input\": \"Cholera due to Vibrio cholerae 01, biovar eltor\", \"model\": \"text-embedding-3-large\", \"encoding_format\": \"float\", \"dimensions\": 1024}}\n",
      "\n",
      "{\"custom_id\": \"custom_id_20002\", \"method\": \"POST\", \"url\": \"/v1/embeddings\", \"body\": {\"input\": \"Infection of incontinent external stoma of urinary tract\", \"model\": \"text-embedding-3-large\", \"encoding_format\": \"float\", \"dimensions\": 1024}}\n",
      "\n",
      "{\"custom_id\": \"custom_id_20003\", \"method\": \"POST\", \"url\": \"/v1/embeddings\", \"body\": {\"input\": \"Malfunction of incontinent external stoma of urinary tract\", \"model\": \"text-embedding-3-large\", \"encoding_format\": \"float\", \"dimensions\": 1024}}\n",
      "\n",
      "{\"custom_id\": \"custom_id_40002\", \"method\": \"POST\", \"url\": \"/v1/embeddings\", \"body\": {\"input\": \"Open bite of left hand, initial encounter\", \"model\": \"text-embedding-3-large\", \"encoding_format\": \"float\", \"dimensions\": 1024}}\n",
      "\n",
      "{\"custom_id\": \"custom_id_40003\", \"method\": \"POST\", \"url\": \"/v1/embeddings\", \"body\": {\"input\": \"Open bite of left hand, subsequent encounter\", \"model\": \"text-embedding-3-large\", \"encoding_format\": \"float\", \"dimensions\": 1024}}\n",
      "\n",
      "{\"custom_id\": \"custom_id_60002\", \"method\": \"POST\", \"url\": \"/v1/embeddings\", \"body\": {\"input\": \"Adverse effect of other antiepileptic and sedative-hypnotic drugs, subsequent encounter\", \"model\": \"text-embedding-3-large\", \"encoding_format\": \"float\", \"dimensions\": 1024}}\n",
      "\n",
      "{\"custom_id\": \"custom_id_60003\", \"method\": \"POST\", \"url\": \"/v1/embeddings\", \"body\": {\"input\": \"Adverse effect of other antiepileptic and sedative-hypnotic drugs, sequela\", \"model\": \"text-embedding-3-large\", \"encoding_format\": \"float\", \"dimensions\": 1024}}\n",
      "\n"
     ]
    }
   ],
   "source": [
    "#check if the data folder exists, else create it\n",
    "def check_and_create_folder(folder_path):\n",
    "    if not os.path.exists(folder_path):\n",
    "        os.makedirs(folder_path)\n",
    "        print(f\"Folder '{folder_path}' created.\")\n",
    "    else:\n",
    "        print(f\"Folder '{folder_path}' already exists.\")\n",
    "check_and_create_folder('./batch_files')\n",
    "\n",
    "#create the batch files\n",
    "batch_size = 20000\n",
    "batch_file  =  icd_codes.copy()\n",
    "batch_file_name = 'icd_codes_batch'\n",
    "num_files = len(batch_file) // batch_size + 1\n",
    "for num_file in range(num_files):\n",
    "    output_file = f'./batch_files/{batch_file_name}_part{num_file}.jsonl'\n",
    "    # make sure that the file does not exist, so don't add to an existing file\n",
    "    if os.path.exists(output_file):\n",
    "        os.remove(output_file)\n",
    "    #write each embedding entry to a new line \n",
    "    with open(output_file, 'a') as file:\n",
    "        for index, row in batch_file.iloc[batch_size*num_file : min(batch_size*(num_file+1),len(batch_file))].iterrows():\n",
    "            payload = {\n",
    "                \"custom_id\":f\"custom_id_{index}\",\n",
    "                \"method\": \"POST\",\n",
    "                \"url\": \"/v1/embeddings\",\n",
    "                \"body\": {\n",
    "                    \"input\": row[\"long_description\"],\n",
    "                    \"model\": \"text-embedding-3-large\",\n",
    "                    \"encoding_format\": \"float\",\n",
    "                    'dimensions':1024\n",
    "                }\n",
    "            }\n",
    "            file.write(json.dumps(payload) + '\\n')\n",
    "\n",
    "    # Sanity check, print the first 2 lines\n",
    "    with open(output_file, 'r') as file:\n",
    "        for line in file.readlines()[:2]:\n",
    "            print(line)"
   ]
  },
  {
   "cell_type": "code",
   "execution_count": null,
   "metadata": {},
   "outputs": [],
   "source": []
  },
  {
   "cell_type": "markdown",
   "metadata": {},
   "source": [
    "# Run the batch embeddings "
   ]
  },
  {
   "cell_type": "markdown",
   "metadata": {},
   "source": [
    "### set up openai environement"
   ]
  },
  {
   "cell_type": "code",
   "execution_count": 16,
   "metadata": {},
   "outputs": [],
   "source": [
    "# set up the openai environment\n",
    "from openai import OpenAI\n",
    "# import os\n",
    "# OPENAI_API_KEY = '<YOUR_API_KEY>'\n",
    "# os.environ[\"OPENAI_API_KEY\"] = 'OPENAI_API_KEY'\n",
    "client = OpenAI()"
   ]
  },
  {
   "cell_type": "code",
   "execution_count": 17,
   "metadata": {},
   "outputs": [],
   "source": [
    "# create the batch files for the batch job\n",
    "batch_folder = './batch_files'\n",
    "batch_input_files = []\n",
    "for file in os.listdir(batch_folder):\n",
    "    batch_input_files.append(client.files.create(\n",
    "        file=open(f'{batch_folder}/{file}', \"rb\"),\n",
    "        purpose=\"batch\"\n",
    "    ))"
   ]
  },
  {
   "cell_type": "code",
   "execution_count": 18,
   "metadata": {},
   "outputs": [],
   "source": [
    "# create the batch job\n",
    "batch_file_ids= [batch_file.id for batch_file in batch_input_files] # we get the ids of the batch files\n",
    "job_creations = []\n",
    "for i,file_id in enumerate(batch_file_ids):\n",
    "    job_creations.append(client.batches.create(\n",
    "    input_file_id=file_id,\n",
    "    endpoint=\"/v1/embeddings\",\n",
    "    completion_window=\"24h\", # currently only 24h is supported \n",
    "    metadata={\n",
    "      \"description\": f\"part_{i}_icd_embeddings\"\n",
    "    }\n",
    "    ))"
   ]
  },
  {
   "cell_type": "code",
   "execution_count": 19,
   "metadata": {},
   "outputs": [
    {
     "name": "stdout",
     "output_type": "stream",
     "text": [
      "Batch(id='batch_rUP0SH8ux4FwloZfe2YzrAuE', completion_window='24h', created_at=1720879617, endpoint='/v1/embeddings', input_file_id='file-lHFYtEtozxznBwSOijRTu8QW', object='batch', status='validating', cancelled_at=None, cancelling_at=None, completed_at=None, error_file_id=None, errors=None, expired_at=None, expires_at=1720966017, failed_at=None, finalizing_at=None, in_progress_at=None, metadata={'description': 'part_0_icd_embeddings'}, output_file_id=None, request_counts=BatchRequestCounts(completed=0, failed=0, total=0))\n",
      "Batch(id='batch_JhU3fyZAaqJWTrEqbxlr4tBJ', completion_window='24h', created_at=1720879617, endpoint='/v1/embeddings', input_file_id='file-MYqA4NZEiFwfZmYyNg1u1cNh', object='batch', status='validating', cancelled_at=None, cancelling_at=None, completed_at=None, error_file_id=None, errors=None, expired_at=None, expires_at=1720966017, failed_at=None, finalizing_at=None, in_progress_at=None, metadata={'description': 'part_1_icd_embeddings'}, output_file_id=None, request_counts=BatchRequestCounts(completed=0, failed=0, total=0))\n",
      "Batch(id='batch_SsFt5Py4lGAD5F7I2oucf6lt', completion_window='24h', created_at=1720879618, endpoint='/v1/embeddings', input_file_id='file-rCnwYTtMDexT9toM6BRWxlfB', object='batch', status='validating', cancelled_at=None, cancelling_at=None, completed_at=None, error_file_id=None, errors=None, expired_at=None, expires_at=1720966018, failed_at=None, finalizing_at=None, in_progress_at=None, metadata={'description': 'part_2_icd_embeddings'}, output_file_id=None, request_counts=BatchRequestCounts(completed=0, failed=0, total=0))\n",
      "Batch(id='batch_0BqvGLrgYHLDzuvT3Fp8GIQQ', completion_window='24h', created_at=1720879619, endpoint='/v1/embeddings', input_file_id='file-0EB7k1VvwzDYqQFqetaVuNzI', object='batch', status='validating', cancelled_at=None, cancelling_at=None, completed_at=None, error_file_id=None, errors=None, expired_at=None, expires_at=1720966019, failed_at=None, finalizing_at=None, in_progress_at=None, metadata={'description': 'part_3_icd_embeddings'}, output_file_id=None, request_counts=BatchRequestCounts(completed=0, failed=0, total=0))\n"
     ]
    }
   ],
   "source": [
    "# WE can see here the jobs created, they start with validation\n",
    "for job in job_creations:\n",
    "    print(job)\n",
    "\n",
    "# we extract the ids for the job to check the status\n",
    "job_ids = [job.id for job in job_creations]"
   ]
  },
  {
   "cell_type": "code",
   "execution_count": 21,
   "metadata": {},
   "outputs": [
    {
     "name": "stdout",
     "output_type": "stream",
     "text": [
      "Job batch_rUP0SH8ux4FwloZfe2YzrAuE has finished\n",
      "Job batch_JhU3fyZAaqJWTrEqbxlr4tBJ has finished\n",
      "Job batch_SsFt5Py4lGAD5F7I2oucf6lt has finished\n",
      "Job batch_0BqvGLrgYHLDzuvT3Fp8GIQQ has finished\n"
     ]
    }
   ],
   "source": [
    "import time\n",
    "fail_flag = False\n",
    "finished = set()\n",
    "while True:\n",
    "    # we check the status of the jobs\n",
    "    for job_id in job_ids:\n",
    "        job  = client.batches.retrieve(job_id)\n",
    "        if job.status == \"failed\":\n",
    "            print(f\"Job {job_id} has failed with error {job.errors}\")\n",
    "            fail_flag = True\n",
    "            break\n",
    "        elif job.status == 'in_progress':\n",
    "            print(f'Job {job_id} is in progress, {job.request_counts.completed}/{job.request_counts.total} requests completed')\n",
    "        elif job.status == 'finalizing':\n",
    "            print(f'Job {job_id} is finalizing, waiting for the output file id')\n",
    "        elif job.status == \"completed\":\n",
    "            print(f\"Job {job_id} has finished\")\n",
    "            finished.add(job_id)\n",
    "        else:\n",
    "            print (f'Job {job_id} is in status {job.status}')\n",
    "        \n",
    "    if fail_flag == True or len(finished) == len(job_ids):\n",
    "        break\n",
    "    time.sleep(600)\n",
    "\n",
    "# When the job is finished we can see the output file id that will be used to extract the output files\n",
    "output_files_ids= []\n",
    "if fail_flag ==  False:\n",
    "    for job_id in job_ids:\n",
    "        output_files_ids.append(client.batches.retrieve(job_id).output_file_id)"
   ]
  },
  {
   "cell_type": "code",
   "execution_count": 22,
   "metadata": {},
   "outputs": [
    {
     "name": "stdout",
     "output_type": "stream",
     "text": [
      "0/13199 requests failed in job batch_rUP0SH8ux4FwloZfe2YzrAuE\n",
      "0/20000 requests failed in job batch_JhU3fyZAaqJWTrEqbxlr4tBJ\n",
      "0/20000 requests failed in job batch_SsFt5Py4lGAD5F7I2oucf6lt\n",
      "0/20000 requests failed in job batch_0BqvGLrgYHLDzuvT3Fp8GIQQ\n"
     ]
    }
   ],
   "source": [
    "for job_id in job_ids:\n",
    "        job  = client.batches.retrieve(job_id)\n",
    "        print(f'{job.request_counts.failed}/{job.request_counts.total} requests failed in job {job_id}')   "
   ]
  },
  {
   "cell_type": "markdown",
   "metadata": {},
   "source": [
    "# Extract the embedding files"
   ]
  },
  {
   "cell_type": "code",
   "execution_count": 23,
   "metadata": {},
   "outputs": [
    {
     "name": "stdout",
     "output_type": "stream",
     "text": [
      "13200\n",
      "20001\n",
      "20001\n",
      "20001\n"
     ]
    }
   ],
   "source": [
    "output_files = []\n",
    "for output_file_id in output_files_ids:\n",
    "    output_file = client.files.content(output_file_id).text\n",
    "    output_files.append(output_file)\n",
    "    output_file_split = output_file.split('\\n')\n",
    "    print(len(output_file_split))"
   ]
  },
  {
   "cell_type": "code",
   "execution_count": 24,
   "metadata": {},
   "outputs": [],
   "source": [
    "embedding_results = []\n",
    "for file in output_files:\n",
    "    for line in file.split('\\n')[:-1]:\n",
    "            data =json.loads(line)\n",
    "            custom_id = data.get('custom_id')\n",
    "            embedding = data['response']['body']['data'][0]['embedding']\n",
    "            embedding_results.append([custom_id, embedding])\n",
    "\n",
    "\n",
    "embedding_results = pd.DataFrame(embedding_results, columns=['custom_id', 'embedding'])"
   ]
  },
  {
   "cell_type": "code",
   "execution_count": 25,
   "metadata": {},
   "outputs": [],
   "source": [
    "icd_codes = icd_codes.reset_index()\n",
    "icd_codes = icd_codes.rename(columns={'index':'id'})\n",
    "embedding_results['id'] = embedding_results['custom_id'].apply(lambda x: int(x.split('custom_id_')[1]))\n",
    "icd_codes_with_embedding = icd_codes.merge(embedding_results[['id','embedding']], on='id', how='left') "
   ]
  },
  {
   "cell_type": "code",
   "execution_count": 26,
   "metadata": {},
   "outputs": [],
   "source": [
    "icd_codes_with_embedding.to_csv('./data/icd_codes_with_embedding_1024.csv', index=False)"
   ]
  },
  {
   "cell_type": "code",
   "execution_count": 27,
   "metadata": {},
   "outputs": [
    {
     "data": {
      "text/html": [
       "<div>\n",
       "<style scoped>\n",
       "    .dataframe tbody tr th:only-of-type {\n",
       "        vertical-align: middle;\n",
       "    }\n",
       "\n",
       "    .dataframe tbody tr th {\n",
       "        vertical-align: top;\n",
       "    }\n",
       "\n",
       "    .dataframe thead th {\n",
       "        text-align: right;\n",
       "    }\n",
       "</style>\n",
       "<table border=\"1\" class=\"dataframe\">\n",
       "  <thead>\n",
       "    <tr style=\"text-align: right;\">\n",
       "      <th></th>\n",
       "      <th>id</th>\n",
       "      <th>code</th>\n",
       "      <th>long_description</th>\n",
       "      <th>embedding</th>\n",
       "    </tr>\n",
       "  </thead>\n",
       "  <tbody>\n",
       "    <tr>\n",
       "      <th>0</th>\n",
       "      <td>0</td>\n",
       "      <td>A000</td>\n",
       "      <td>Cholera due to Vibrio cholerae 01, biovar chol...</td>\n",
       "      <td>[-0.014789093, 0.022974426, -0.0022706205, 0.0...</td>\n",
       "    </tr>\n",
       "    <tr>\n",
       "      <th>1</th>\n",
       "      <td>1</td>\n",
       "      <td>A001</td>\n",
       "      <td>Cholera due to Vibrio cholerae 01, biovar eltor</td>\n",
       "      <td>[-0.02730488, 0.027858227, 0.0045746644, 0.027...</td>\n",
       "    </tr>\n",
       "    <tr>\n",
       "      <th>2</th>\n",
       "      <td>2</td>\n",
       "      <td>A009</td>\n",
       "      <td>Cholera, unspecified</td>\n",
       "      <td>[-0.007328467, 0.0143457465, -0.0004473321, 0....</td>\n",
       "    </tr>\n",
       "    <tr>\n",
       "      <th>3</th>\n",
       "      <td>3</td>\n",
       "      <td>A0100</td>\n",
       "      <td>Typhoid fever, unspecified</td>\n",
       "      <td>[-0.015086054, 0.018356182, 0.0049224794, -0.0...</td>\n",
       "    </tr>\n",
       "    <tr>\n",
       "      <th>4</th>\n",
       "      <td>4</td>\n",
       "      <td>A0101</td>\n",
       "      <td>Typhoid meningitis</td>\n",
       "      <td>[0.015721751, -0.0019451054, 0.0032560402, -0....</td>\n",
       "    </tr>\n",
       "  </tbody>\n",
       "</table>\n",
       "</div>"
      ],
      "text/plain": [
       "   id   code                                   long_description  \\\n",
       "0   0   A000  Cholera due to Vibrio cholerae 01, biovar chol...   \n",
       "1   1   A001    Cholera due to Vibrio cholerae 01, biovar eltor   \n",
       "2   2   A009                               Cholera, unspecified   \n",
       "3   3  A0100                         Typhoid fever, unspecified   \n",
       "4   4  A0101                                 Typhoid meningitis   \n",
       "\n",
       "                                           embedding  \n",
       "0  [-0.014789093, 0.022974426, -0.0022706205, 0.0...  \n",
       "1  [-0.02730488, 0.027858227, 0.0045746644, 0.027...  \n",
       "2  [-0.007328467, 0.0143457465, -0.0004473321, 0....  \n",
       "3  [-0.015086054, 0.018356182, 0.0049224794, -0.0...  \n",
       "4  [0.015721751, -0.0019451054, 0.0032560402, -0....  "
      ]
     },
     "execution_count": 27,
     "metadata": {},
     "output_type": "execute_result"
    }
   ],
   "source": [
    "icd_codes_with_embedding.head()"
   ]
  },
  {
   "cell_type": "code",
   "execution_count": 28,
   "metadata": {},
   "outputs": [
    {
     "name": "stdout",
     "output_type": "stream",
     "text": [
      "1024\n"
     ]
    }
   ],
   "source": [
    "data = pd.read_csv('./data/icd_codes_with_embedding_1024.csv')\n",
    "list_string  = data.embedding.iloc[0]\n",
    "list_string = list_string[1:-1]\n",
    "list_string = list_string.split(',')\n",
    "print(len(list_string))"
   ]
  }
 ],
 "metadata": {
  "kernelspec": {
   "display_name": "omop_api",
   "language": "python",
   "name": "python3"
  },
  "language_info": {
   "codemirror_mode": {
    "name": "ipython",
    "version": 3
   },
   "file_extension": ".py",
   "mimetype": "text/x-python",
   "name": "python",
   "nbconvert_exporter": "python",
   "pygments_lexer": "ipython3",
   "version": "3.11.5"
  }
 },
 "nbformat": 4,
 "nbformat_minor": 2
}
