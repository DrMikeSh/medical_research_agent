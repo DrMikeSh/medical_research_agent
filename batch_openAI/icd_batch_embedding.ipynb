{
 "cells": [
  {
   "cell_type": "code",
   "execution_count": 63,
   "metadata": {},
   "outputs": [],
   "source": [
    "import requests\n",
    "import pandas as pd\n",
    "import numpy as np\n",
    "import json\n",
    "import os\n"
   ]
  },
  {
   "cell_type": "markdown",
   "metadata": {},
   "source": [
    "# Get the icd codes"
   ]
  },
  {
   "cell_type": "code",
   "execution_count": 64,
   "metadata": {},
   "outputs": [],
   "source": [
    "link = 'https://www.cms.gov/files/document/valid-icd-10-list.xlsx'"
   ]
  },
  {
   "cell_type": "code",
   "execution_count": 65,
   "metadata": {},
   "outputs": [
    {
     "name": "stdout",
     "output_type": "stream",
     "text": [
      "    CODE            SHORT DESCRIPTION (VALID ICD-10 FY2024)  \\\n",
      "0   A000  Cholera due to Vibrio cholerae 01, biovar chol...   \n",
      "1   A001    Cholera due to Vibrio cholerae 01, biovar eltor   \n",
      "2   A009                               Cholera, unspecified   \n",
      "3  A0100                         Typhoid fever, unspecified   \n",
      "4  A0101                                 Typhoid meningitis   \n",
      "\n",
      "              LONG DESCRIPTION (VALID ICD-10 FY2024) NF EXCL  \n",
      "0  Cholera due to Vibrio cholerae 01, biovar chol...     NaN  \n",
      "1    Cholera due to Vibrio cholerae 01, biovar eltor     NaN  \n",
      "2                               Cholera, unspecified     NaN  \n",
      "3                         Typhoid fever, unspecified     NaN  \n",
      "4                                 Typhoid meningitis     NaN  \n"
     ]
    }
   ],
   "source": [
    "# Download the xlsx file\n",
    "response = requests.get(link)\n",
    "with open('./data/icd10_codes.xlsx', 'wb') as file:\n",
    "    file.write(response.content)\n",
    "\n",
    "# Open the xlsx file\n",
    "icd_codes = pd.read_excel('./data/icd10_codes.xlsx')\n",
    "print(icd_codes.head())"
   ]
  },
  {
   "cell_type": "code",
   "execution_count": 66,
   "metadata": {},
   "outputs": [
    {
     "name": "stdout",
     "output_type": "stream",
     "text": [
      "code                0.0\n",
      "long_description    0.0\n",
      "dtype: float64\n"
     ]
    }
   ],
   "source": [
    "icd_codes = icd_codes.drop('NF EXCL', axis=1)\n",
    "icd_codes.columns = ['code', 'short_description','long_description']\n",
    "icd_codes = icd_codes.drop('short_description', axis=1) \n",
    "icd_codes=icd_codes.dropna()\n",
    "print(icd_codes.isna().mean()) # Check for missing values"
   ]
  },
  {
   "cell_type": "markdown",
   "metadata": {},
   "source": [
    "# Create batch files"
   ]
  },
  {
   "cell_type": "code",
   "execution_count": 67,
   "metadata": {},
   "outputs": [
    {
     "name": "stdout",
     "output_type": "stream",
     "text": [
      "{\"custom_id\": \"custom_id_0\", \"method\": \"POST\", \"url\": \"/v1/embeddings\", \"body\": {\"input\": \"Cholera due to Vibrio cholerae 01, biovar cholerae\", \"model\": \"text-embedding-3-large\", \"encoding_format\": \"float\"}}\n",
      "\n",
      "{\"custom_id\": \"custom_id_1\", \"method\": \"POST\", \"url\": \"/v1/embeddings\", \"body\": {\"input\": \"Cholera due to Vibrio cholerae 01, biovar eltor\", \"model\": \"text-embedding-3-large\", \"encoding_format\": \"float\"}}\n",
      "\n",
      "{\"custom_id\": \"custom_id_50002\", \"method\": \"POST\", \"url\": \"/v1/embeddings\", \"body\": {\"input\": \"Nondisplaced spiral fracture of shaft of unspecified fibula, initial encounter for open fracture type IIIA, IIIB, or IIIC\", \"model\": \"text-embedding-3-large\", \"encoding_format\": \"float\"}}\n",
      "\n",
      "{\"custom_id\": \"custom_id_50003\", \"method\": \"POST\", \"url\": \"/v1/embeddings\", \"body\": {\"input\": \"Nondisplaced spiral fracture of shaft of unspecified fibula, subsequent encounter for closed fracture with routine healing\", \"model\": \"text-embedding-3-large\", \"encoding_format\": \"float\"}}\n",
      "\n"
     ]
    }
   ],
   "source": [
    "# Create batch files \n",
    "# Each batch is limited to 50 thousand rows\n",
    "\n",
    "batch_file  =  icd_codes.copy()\n",
    "batch_file_name = 'icd_codes_batch'\n",
    "num_files = len(batch_file) // 50000 + 1\n",
    "for num_file in range(num_files):\n",
    "    output_file = f'./batch_files/{batch_file_name}_part{num_file}.jsonl'\n",
    "    # make sure that the file does not exist, so don't add to an existing file\n",
    "    if os.path.exists(output_file):\n",
    "        os.remove(output_file)\n",
    "    with open(output_file, 'a') as file:\n",
    "        for index, row in batch_file.iloc[50000*num_file : min(50000*(num_file+1),len(batch_file))].iterrows():\n",
    "            payload = {\n",
    "                \"custom_id\":f\"custom_id_{index}\",\n",
    "                \"method\": \"POST\",\n",
    "                \"url\": \"/v1/embeddings\",\n",
    "                \"body\": {\n",
    "                    \"input\": row[\"long_description\"],\n",
    "                    \"model\": \"text-embedding-3-large\",\n",
    "                    \"encoding_format\": \"float\"\n",
    "                }\n",
    "            }\n",
    "            file.write(json.dumps(payload) + '\\n')\n",
    "\n",
    "    # Sanity check\n",
    "    with open(output_file, 'r') as file:\n",
    "        for line in file.readlines()[:2]:\n",
    "            print(line)\n"
   ]
  },
  {
   "cell_type": "markdown",
   "metadata": {},
   "source": [
    "# Run the batch embeddings "
   ]
  },
  {
   "cell_type": "markdown",
   "metadata": {},
   "source": [
    "### set up openai environement"
   ]
  },
  {
   "cell_type": "code",
   "execution_count": 68,
   "metadata": {},
   "outputs": [],
   "source": [
    "# set up the openai environment\n",
    "from openai import OpenAI\n",
    "# OPENAI_API_KEY = '<YOUR_API_KEY>'\n",
    "# os.environ[\"OPENAI_API_KEY\"] = OPENAI_API_KEY\n",
    "client = OpenAI()"
   ]
  },
  {
   "cell_type": "code",
   "execution_count": 69,
   "metadata": {},
   "outputs": [],
   "source": [
    "# create the batch files for the batch job\n",
    "batch_folder = './batch_files'\n",
    "batch_input_files = []\n",
    "for file in os.listdir(batch_folder):\n",
    "    batch_input_files.append(client.files.create(\n",
    "        file=open(f'{batch_folder}/{file}', \"rb\"),\n",
    "        purpose=\"batch\"\n",
    "    ))"
   ]
  },
  {
   "cell_type": "code",
   "execution_count": 70,
   "metadata": {},
   "outputs": [],
   "source": [
    "# create the batch job\n",
    "batch_file_ids= [batch_file.id for batch_file in batch_input_files] # we get the ids of the batch files\n",
    "job_creations = []\n",
    "for i,file_id in enumerate(batch_file_ids):\n",
    "    job_creations.append(client.batches.create(\n",
    "    input_file_id=file_id,\n",
    "    endpoint=\"/v1/embeddings\",\n",
    "    completion_window=\"24h\", # currently only 24h is supported \n",
    "    metadata={\n",
    "      \"description\": f\"part_{i}_icd_embeddings\"\n",
    "    }\n",
    "    ))"
   ]
  },
  {
   "cell_type": "code",
   "execution_count": 71,
   "metadata": {},
   "outputs": [
    {
     "name": "stdout",
     "output_type": "stream",
     "text": [
      "Batch(id='batch_keC2nwmzuJ8PmgqInkn3Hcg7', completion_window='24h', created_at=1720811130, endpoint='/v1/embeddings', input_file_id='file-SxQJNEeK6kHcqVLb4t855vWi', object='batch', status='validating', cancelled_at=None, cancelling_at=None, completed_at=None, error_file_id=None, errors=None, expired_at=None, expires_at=1720897530, failed_at=None, finalizing_at=None, in_progress_at=None, metadata={'description': 'part_0_icd_embeddings'}, output_file_id=None, request_counts=BatchRequestCounts(completed=0, failed=0, total=0))\n",
      "Batch(id='batch_zOIjkAp9PDkGYVgRXHvbdrpx', completion_window='24h', created_at=1720811130, endpoint='/v1/embeddings', input_file_id='file-EYv1ENRK0HBxRNsmlJ7rvh5J', object='batch', status='validating', cancelled_at=None, cancelling_at=None, completed_at=None, error_file_id=None, errors=None, expired_at=None, expires_at=1720897530, failed_at=None, finalizing_at=None, in_progress_at=None, metadata={'description': 'part_1_icd_embeddings'}, output_file_id=None, request_counts=BatchRequestCounts(completed=0, failed=0, total=0))\n"
     ]
    }
   ],
   "source": [
    "# WE can see here the jobs created, they start with validation\n",
    "for job in job_creations:\n",
    "    print(job)\n",
    "\n",
    "# we extract the ids for the job to check the status\n",
    "job_ids = [job.id for job in job_creations]"
   ]
  },
  {
   "cell_type": "code",
   "execution_count": 83,
   "metadata": {},
   "outputs": [
    {
     "name": "stdout",
     "output_type": "stream",
     "text": [
      "Job batch_keC2nwmzuJ8PmgqInkn3Hcg7 has finished\n",
      "Job batch_zOIjkAp9PDkGYVgRXHvbdrpx is finalizing, waiting for the output file id\n",
      "Job batch_keC2nwmzuJ8PmgqInkn3Hcg7 has finished\n",
      "Job batch_zOIjkAp9PDkGYVgRXHvbdrpx is finalizing, waiting for the output file id\n",
      "Job batch_keC2nwmzuJ8PmgqInkn3Hcg7 has finished\n",
      "Job batch_zOIjkAp9PDkGYVgRXHvbdrpx is finalizing, waiting for the output file id\n",
      "Job batch_keC2nwmzuJ8PmgqInkn3Hcg7 has finished\n",
      "Job batch_zOIjkAp9PDkGYVgRXHvbdrpx has finished\n"
     ]
    }
   ],
   "source": [
    "import time\n",
    "fail_flag = False\n",
    "finished = set()\n",
    "while True:\n",
    "    # we check the status of the jobs\n",
    "    for job_id in job_ids:\n",
    "        job  = client.batches.retrieve(job_id)\n",
    "        if job.status == \"failed\":\n",
    "            print(f\"Job {job_id} has failed with error {job.errors}\")\n",
    "            fail_flag = True\n",
    "            break\n",
    "        elif job.status == 'in_progress':\n",
    "            print(f'Job {job_id} is in progress, {job.request_counts.completed}/{job.request_counts.total} requests completed')\n",
    "        elif job.status == 'finalizing':\n",
    "            print(f'Job {job_id} is finalizing, waiting for the output file id')\n",
    "        elif job.status == \"completed\":\n",
    "            print(f\"Job {job_id} has finished\")\n",
    "            finished.add(job_id)\n",
    "        else:\n",
    "            print (f'Job {job_id} is in status {job.status}')\n",
    "        \n",
    "    if fail_flag == True or len(finished) == len(job_ids):\n",
    "        break\n",
    "    time.sleep(600)\n",
    "\n",
    "# When the job is finished we can see the output file id that will be used to extract the output files\n",
    "output_files_ids= []\n",
    "if fail_flag ==  False:\n",
    "    for job_id in job_ids:\n",
    "        output_files_ids.append(client.batches.retrieve(job_id).output_file_id)"
   ]
  },
  {
   "cell_type": "code",
   "execution_count": 84,
   "metadata": {},
   "outputs": [
    {
     "name": "stdout",
     "output_type": "stream",
     "text": [
      "0/23199 requests failed in job batch_keC2nwmzuJ8PmgqInkn3Hcg7\n",
      "0/50000 requests failed in job batch_zOIjkAp9PDkGYVgRXHvbdrpx\n"
     ]
    }
   ],
   "source": [
    "for job_id in job_ids:\n",
    "        job  = client.batches.retrieve(job_id)\n",
    "        print(f'{job.request_counts.failed}/{job.request_counts.total} requests failed in job {job_id}')   "
   ]
  },
  {
   "cell_type": "markdown",
   "metadata": {},
   "source": [
    "# Extract the embedding files"
   ]
  },
  {
   "cell_type": "code",
   "execution_count": 86,
   "metadata": {},
   "outputs": [
    {
     "name": "stdout",
     "output_type": "stream",
     "text": [
      "23200\n",
      "50001\n"
     ]
    }
   ],
   "source": [
    "output_files = []\n",
    "for output_file_id in output_files_ids:\n",
    "    output_file = client.files.content(output_file_id).text\n",
    "    output_files.append(output_file)\n",
    "    output_file_split = output_file.split('\\n')\n",
    "    print(len(output_file_split))"
   ]
  },
  {
   "cell_type": "code",
   "execution_count": 87,
   "metadata": {},
   "outputs": [],
   "source": [
    "embedding_results = []\n",
    "for file in output_files:\n",
    "    for line in file.split('\\n')[:-1]:\n",
    "            data =json.loads(line)\n",
    "            custom_id = data.get('custom_id')\n",
    "            embedding = data['response']['body']['data'][0]['embedding']\n",
    "            embedding_results.append([custom_id, embedding])\n",
    "\n",
    "\n",
    "embedding_results = pd.DataFrame(embedding_results, columns=['custom_id', 'embedding'])"
   ]
  },
  {
   "cell_type": "code",
   "execution_count": 88,
   "metadata": {},
   "outputs": [],
   "source": [
    "icd_codes = icd_codes.reset_index()\n",
    "icd_codes = icd_codes.rename(columns={'index':'id'})\n",
    "embedding_results['id'] = embedding_results['custom_id'].apply(lambda x: int(x.split('custom_id_')[1]))\n",
    "icd_codes_with_embedding = icd_codes.merge(embedding_results[['id','embedding']], on='id', how='left') "
   ]
  },
  {
   "cell_type": "code",
   "execution_count": 89,
   "metadata": {},
   "outputs": [],
   "source": [
    "icd_codes_with_embedding.to_csv('./data/icd_codes_with_embedding.csv', index=False)"
   ]
  },
  {
   "cell_type": "code",
   "execution_count": 90,
   "metadata": {},
   "outputs": [
    {
     "data": {
      "text/html": [
       "<div>\n",
       "<style scoped>\n",
       "    .dataframe tbody tr th:only-of-type {\n",
       "        vertical-align: middle;\n",
       "    }\n",
       "\n",
       "    .dataframe tbody tr th {\n",
       "        vertical-align: top;\n",
       "    }\n",
       "\n",
       "    .dataframe thead th {\n",
       "        text-align: right;\n",
       "    }\n",
       "</style>\n",
       "<table border=\"1\" class=\"dataframe\">\n",
       "  <thead>\n",
       "    <tr style=\"text-align: right;\">\n",
       "      <th></th>\n",
       "      <th>id</th>\n",
       "      <th>code</th>\n",
       "      <th>long_description</th>\n",
       "      <th>embedding</th>\n",
       "    </tr>\n",
       "  </thead>\n",
       "  <tbody>\n",
       "    <tr>\n",
       "      <th>0</th>\n",
       "      <td>0</td>\n",
       "      <td>A000</td>\n",
       "      <td>Cholera due to Vibrio cholerae 01, biovar chol...</td>\n",
       "      <td>[-0.01081124, 0.016794948, -0.0016598871, 0.01...</td>\n",
       "    </tr>\n",
       "    <tr>\n",
       "      <th>1</th>\n",
       "      <td>1</td>\n",
       "      <td>A001</td>\n",
       "      <td>Cholera due to Vibrio cholerae 01, biovar eltor</td>\n",
       "      <td>[-0.020291328, 0.020674184, 0.0033783433, 0.02...</td>\n",
       "    </tr>\n",
       "    <tr>\n",
       "      <th>2</th>\n",
       "      <td>2</td>\n",
       "      <td>A009</td>\n",
       "      <td>Cholera, unspecified</td>\n",
       "      <td>[-0.005399217, 0.010569167, -0.00032957003, 0....</td>\n",
       "    </tr>\n",
       "    <tr>\n",
       "      <th>3</th>\n",
       "      <td>3</td>\n",
       "      <td>A0100</td>\n",
       "      <td>Typhoid fever, unspecified</td>\n",
       "      <td>[-0.011074301, 0.013406112, 0.0035753243, -0.0...</td>\n",
       "    </tr>\n",
       "    <tr>\n",
       "      <th>4</th>\n",
       "      <td>4</td>\n",
       "      <td>A0101</td>\n",
       "      <td>Typhoid meningitis</td>\n",
       "      <td>[0.011390618, -0.0014092546, 0.0023590443, -0....</td>\n",
       "    </tr>\n",
       "  </tbody>\n",
       "</table>\n",
       "</div>"
      ],
      "text/plain": [
       "   id   code                                   long_description  \\\n",
       "0   0   A000  Cholera due to Vibrio cholerae 01, biovar chol...   \n",
       "1   1   A001    Cholera due to Vibrio cholerae 01, biovar eltor   \n",
       "2   2   A009                               Cholera, unspecified   \n",
       "3   3  A0100                         Typhoid fever, unspecified   \n",
       "4   4  A0101                                 Typhoid meningitis   \n",
       "\n",
       "                                           embedding  \n",
       "0  [-0.01081124, 0.016794948, -0.0016598871, 0.01...  \n",
       "1  [-0.020291328, 0.020674184, 0.0033783433, 0.02...  \n",
       "2  [-0.005399217, 0.010569167, -0.00032957003, 0....  \n",
       "3  [-0.011074301, 0.013406112, 0.0035753243, -0.0...  \n",
       "4  [0.011390618, -0.0014092546, 0.0023590443, -0....  "
      ]
     },
     "execution_count": 90,
     "metadata": {},
     "output_type": "execute_result"
    }
   ],
   "source": [
    "icd_codes_with_embedding.head()"
   ]
  },
  {
   "cell_type": "code",
   "execution_count": null,
   "metadata": {},
   "outputs": [],
   "source": []
  }
 ],
 "metadata": {
  "kernelspec": {
   "display_name": "omop_api",
   "language": "python",
   "name": "python3"
  },
  "language_info": {
   "codemirror_mode": {
    "name": "ipython",
    "version": 3
   },
   "file_extension": ".py",
   "mimetype": "text/x-python",
   "name": "python",
   "nbconvert_exporter": "python",
   "pygments_lexer": "ipython3",
   "version": "3.11.5"
  }
 },
 "nbformat": 4,
 "nbformat_minor": 2
}
